{
 "cells": [
  {
   "cell_type": "code",
   "execution_count": 2,
   "metadata": {},
   "outputs": [],
   "source": [
    "# 1. Setup and initialization\n",
    "import weaviate\n",
    "from weaviate.classes.init import Auth\n",
    "from weaviate.classes.query import MetadataQuery\n",
    "\n",
    "from openai import OpenAI\n",
    "import os\n",
    "from dotenv import load_dotenv\n",
    "\n",
    "load_dotenv()\n",
    "\n",
    "# Initialize clients\n",
    "wcd_url = os.environ[\"WCD_URL\"]\n",
    "wcd_api_key = os.environ[\"WCD_API_KEY\"]\n",
    "\n",
    "client = weaviate.connect_to_weaviate_cloud(\n",
    "    cluster_url=wcd_url,                                    \n",
    "    auth_credentials=Auth.api_key(wcd_api_key),\n",
    ")\n",
    "openai_client = OpenAI(api_key=os.getenv('OPENAI_API_KEY'))"
   ]
  },
  {
   "cell_type": "code",
   "execution_count": 10,
   "metadata": {},
   "outputs": [],
   "source": [
    "# 2. Define the query\n",
    "query = \"what is the capital of Germany?\"\n",
    "\n",
    "# 3. Get embedding for the query\n",
    "response = openai_client.embeddings.create(\n",
    "    model=\"text-embedding-3-large\",\n",
    "    input=query\n",
    ")\n",
    "query_embedding = response.data[0].embedding"
   ]
  },
  {
   "cell_type": "code",
   "execution_count": 11,
   "metadata": {},
   "outputs": [
    {
     "name": "stdout",
     "output_type": "stream",
     "text": [
      "0\n"
     ]
    }
   ],
   "source": [
    "prompt = f\"Your job is to decide if this use query would be better answered with extra context from Tesla's manual and if so output 1 otherwise output 0.\"\n",
    "\n",
    "response = openai_client.chat.completions.create(\n",
    "    model=\"gpt-4o\",\n",
    "    messages=[\n",
    "        {\"role\": \"system\", \"content\": prompt},\n",
    "        {\"role\": \"user\", \"content\": query}\n",
    "    ],\n",
    "    temperature=0\n",
    ")\n",
    "\n",
    "answer = response.choices[0].message.content\n",
    "\n",
    "print(answer)"
   ]
  },
  {
   "cell_type": "code",
   "execution_count": 12,
   "metadata": {},
   "outputs": [],
   "source": [
    "context_str = \"\"\n",
    "\n",
    "if answer == \"1\":\n",
    "    # 4. Search for similar texts in Weaviate\n",
    "    collection_name = \"Vladimir\"\n",
    "\n",
    "    collection = client.collections.get(collection_name)\n",
    "    similar_texts = collection.query.near_vector(\n",
    "        near_vector=query_embedding,\n",
    "        limit=3,\n",
    "        return_properties=[\"text\"],\n",
    "        return_metadata=MetadataQuery(distance=True)\n",
    "    )\n",
    "\n",
    "    print(\"\\nRetrieved contexts:\")\n",
    "    for i, doc in enumerate(similar_texts.objects, 1):\n",
    "        print(f\"\\n{i}. Distance: {doc.metadata.distance}\")\n",
    "        print(f\"Text: {doc.properties['text']}\")\n",
    "        print(\"\\n\\n\")\n",
    "\n",
    "    context_str = \"\\n\\n---\\n\\n\".join([doc.properties[\"text\"] for doc in similar_texts.objects])"
   ]
  },
  {
   "cell_type": "code",
   "execution_count": 14,
   "metadata": {},
   "outputs": [
    {
     "name": "stdout",
     "output_type": "stream",
     "text": [
      "Prompt: what is the capital of Germany? \n",
      "\n",
      "----------------------------------\n",
      "\n",
      "\n",
      "Question: what is the capital of Germany?\n",
      "\n",
      "Answer: The capital of Germany is Berlin.\n"
     ]
    }
   ],
   "source": [
    "# 5. Prepare context for GPT\n",
    "\n",
    "prompt = query\n",
    "if answer == \"1\":\n",
    "    prompt = f\"\"\"Answer the question using ONLY the information provided in the context below. \n",
    "    Do not add any general knowledge or information not contained in the context.\"\n",
    "\n",
    "    Context:\n",
    "    {context_str}\n",
    "\n",
    "    Question: {query}\n",
    "\n",
    "    Answer:\"\"\"\n",
    "\n",
    "# 6. Generate answer using GPT-4\n",
    "response = openai_client.chat.completions.create(\n",
    "    model=\"gpt-4o\",\n",
    "    messages=[\n",
    "        {\"role\": \"system\", \"content\": \"You are a helpful assistant that answers questions based on the provided context.\"},\n",
    "        {\"role\": \"user\", \"content\": prompt}\n",
    "    ],\n",
    "    temperature=0\n",
    ")\n",
    "\n",
    "answer = response.choices[0].message.content\n",
    "\n",
    "# 7. Print results\n",
    "print(f\"Prompt: {prompt} \\n\\n----------------------------------\\n\\n\")\n",
    "print(f\"Question: {query}\\n\\nAnswer: {answer}\")"
   ]
  }
 ],
 "metadata": {
  "kernelspec": {
   "display_name": ".venv",
   "language": "python",
   "name": "python3"
  },
  "language_info": {
   "codemirror_mode": {
    "name": "ipython",
    "version": 3
   },
   "file_extension": ".py",
   "mimetype": "text/x-python",
   "name": "python",
   "nbconvert_exporter": "python",
   "pygments_lexer": "ipython3",
   "version": "3.13.0"
  }
 },
 "nbformat": 4,
 "nbformat_minor": 2
}
